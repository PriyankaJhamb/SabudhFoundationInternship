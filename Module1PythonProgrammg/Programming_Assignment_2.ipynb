{
  "nbformat": 4,
  "nbformat_minor": 0,
  "metadata": {
    "colab": {
      "name": "Programming Assignment 2.ipynb",
      "provenance": []
    },
    "kernelspec": {
      "name": "python3",
      "display_name": "Python 3"
    },
    "language_info": {
      "name": "python"
    }
  },
  "cells": [
    {
      "cell_type": "markdown",
      "metadata": {
        "id": "31nigAntrXuG"
      },
      "source": [
        "# **Lists**\n"
      ]
    },
    {
      "cell_type": "markdown",
      "metadata": {
        "id": "MtP7e6pxrbwq"
      },
      "source": [
        "1. Interchange the first and second last element of the list.\n",
        "\n",
        "    List = [2,7,8,7,9,3,5,4,1,0,11,12,17]"
      ]
    },
    {
      "cell_type": "code",
      "metadata": {
        "colab": {
          "base_uri": "https://localhost:8080/"
        },
        "id": "wIBTeAzyvdUb",
        "outputId": "3a01b0c8-6da8-42ad-8aad-3d94003323c3"
      },
      "source": [
        "List = [2,7,8,7,9,3,5,4,1,0,11,12,17]\n",
        "temp=List[0]\n",
        "List[0]=List[len(List)-2]\n",
        "List[len(List)-2]=temp\n",
        "print(List)"
      ],
      "execution_count": 6,
      "outputs": [
        {
          "output_type": "stream",
          "name": "stdout",
          "text": [
            "[12, 7, 8, 7, 9, 3, 5, 4, 1, 0, 11, 2, 17]\n"
          ]
        }
      ]
    },
    {
      "cell_type": "markdown",
      "metadata": {
        "id": "9vOM6PJ1sKP0"
      },
      "source": [
        "2. Find the fifth smallest number from the list.\n",
        "\n",
        "    List: [11,2,67,6,26,5,4,76,77]"
      ]
    },
    {
      "cell_type": "code",
      "metadata": {
        "colab": {
          "base_uri": "https://localhost:8080/"
        },
        "id": "wGTZgaA8w9Et",
        "outputId": "e09aab7c-9398-4fc9-c10c-1e92c5867f0e"
      },
      "source": [
        "List= [11,2,67,6,26,5,4,76,77]\n",
        "List.sort()\n",
        "print(List)\n",
        "print(\"The fifth smallest number from the list: \",List[4])"
      ],
      "execution_count": 12,
      "outputs": [
        {
          "output_type": "stream",
          "name": "stdout",
          "text": [
            "[2, 4, 5, 6, 11, 26, 67, 76, 77]\n",
            "The fifth smallest number from the list:  11\n"
          ]
        }
      ]
    },
    {
      "cell_type": "markdown",
      "metadata": {
        "id": "efO0vAKWsM1d"
      },
      "source": [
        "3. Replace the last element in a list with another list.\n",
        "\n",
        "    Original List: [1, 3, 5, 8, 10, 9]    List to add:  [2, 7, 9]\n",
        "\n",
        "    Expected Output: [1, 3, 5, 8, 10, 2, 7, 9]"
      ]
    },
    {
      "cell_type": "code",
      "metadata": {
        "colab": {
          "base_uri": "https://localhost:8080/"
        },
        "id": "26u9xamZy3e6",
        "outputId": "0a7c9cc6-0f86-4aec-85f7-9bfa99cd02bb"
      },
      "source": [
        "org_list=[1, 3, 5, 8, 10, 9]\n",
        "list_add=[2, 7, 9]\n",
        "org_list=org_list[:len(org_list)-1]+list_add[:]\n",
        "print(org_list)"
      ],
      "execution_count": 19,
      "outputs": [
        {
          "output_type": "stream",
          "name": "stdout",
          "text": [
            "[1, 3, 5, 8, 10, 2, 7, 9]\n"
          ]
        }
      ]
    },
    {
      "cell_type": "markdown",
      "metadata": {
        "id": "eyVmWtS4sUaB"
      },
      "source": [
        "4. Sort the list and pickup first three values and append to the sorted list.\n",
        "\n",
        "    List: [12,3,4,98,100,75]"
      ]
    },
    {
      "cell_type": "code",
      "metadata": {
        "colab": {
          "base_uri": "https://localhost:8080/"
        },
        "id": "xdf5eeCfz0bc",
        "outputId": "f9c55abd-4ed0-495d-f0fc-04f624e7c689"
      },
      "source": [
        "List=[12,3,4,98,100,75]\n",
        "List.sort()\n",
        "print(\"Sorted List before appending: \",List)\n",
        "List=List[:]+List[:3]\n",
        "print(\"Sorted List after appending: \",List)"
      ],
      "execution_count": 23,
      "outputs": [
        {
          "output_type": "stream",
          "name": "stdout",
          "text": [
            "Sorted List before appending:  [3, 4, 12, 75, 98, 100]\n",
            "Sorted List after appending:  [3, 4, 12, 75, 98, 100, 3, 4, 12]\n"
          ]
        }
      ]
    },
    {
      "cell_type": "markdown",
      "metadata": {
        "id": "Xb68y_40sXwx"
      },
      "source": [
        "5. Find mean of items in the list and check whether mean is present in the list.\n",
        "\n",
        "    List: [1, 2, 5, 8, 9, 10, 0]."
      ]
    },
    {
      "cell_type": "code",
      "metadata": {
        "colab": {
          "base_uri": "https://localhost:8080/"
        },
        "id": "GtY1o2Op0e20",
        "outputId": "87e67128-24b2-4da7-dec1-804b6004997d"
      },
      "source": [
        "List=[1, 2, 5, 8, 9, 10, 0]\n",
        "Sum=sum(List)\n",
        "Mean=int(Sum/len(List))\n",
        "print(\"Mean: \", Mean)\n",
        "if Mean in List:\n",
        "  print(\"Mean is present in the list.\")\n",
        "else:\n",
        "  print(\"Mean is not present in the list. \")"
      ],
      "execution_count": 28,
      "outputs": [
        {
          "output_type": "stream",
          "name": "stdout",
          "text": [
            "Mean:  5\n",
            "Mean is present in the list.\n"
          ]
        }
      ]
    },
    {
      "cell_type": "markdown",
      "metadata": {
        "id": "1f2lZFwFsa5B"
      },
      "source": [
        "6. Given two strings, append each of those strings to two different empty list. Multiply those list by the length of the string present in the corresponding list and then concatenate the two lists.\n",
        "\n",
        "    String 1: “Hello”  String 2: “Ryan”\n",
        "\n",
        "    Expected Output: ['Hello', 'Hello', 'Hello', 'Hello', 'Hello', 'Ryan', 'Ryan', 'Ryan', 'Ryan']"
      ]
    },
    {
      "cell_type": "code",
      "metadata": {
        "colab": {
          "base_uri": "https://localhost:8080/"
        },
        "id": "CbXnbeex_kkO",
        "outputId": "9a4cbd48-1c1d-47ad-fadb-7548a160f4a2"
      },
      "source": [
        "str1=\"Hello\"\n",
        "str2=\"Ryan\"\n",
        "list1=[]\n",
        "list2=[]\n",
        "list1.append(str1)\n",
        "list2.append(str2)\n",
        "list1=list1*len(str1)\n",
        "list2=list2*len(str2)\n",
        "list=list1+list2\n",
        "print(list)"
      ],
      "execution_count": 35,
      "outputs": [
        {
          "output_type": "stream",
          "name": "stdout",
          "text": [
            "['Hello', 'Hello', 'Hello', 'Hello', 'Hello', 'Ryan', 'Ryan', 'Ryan', 'Ryan']\n"
          ]
        }
      ]
    },
    {
      "cell_type": "markdown",
      "metadata": {
        "id": "N2UINPz8smpL"
      },
      "source": [
        "7. Remove the first occurrence of the given string from the list and replace it with its reverse string.\n",
        "\n",
        "    List: [‘Hello’, ‘John’, ‘Noice’, ‘Hello’, ‘again’, ‘Hello’]\n",
        "\n",
        "    String: Hello"
      ]
    },
    {
      "cell_type": "code",
      "metadata": {
        "colab": {
          "base_uri": "https://localhost:8080/"
        },
        "id": "oSGaYf6wAdXS",
        "outputId": "80e76bda-1db9-4a9f-fcb7-2ae4ba8494c2"
      },
      "source": [
        "string=\"Hello\"\n",
        "List=['Hello', 'John', 'Noice', 'Hello', 'again', 'Hello']\n",
        "for i in List:\n",
        "  if i==string:\n",
        "    List[List.index(i)]=string[::-1]\n",
        "    break\n",
        "print(List)\n"
      ],
      "execution_count": 37,
      "outputs": [
        {
          "output_type": "stream",
          "name": "stdout",
          "text": [
            "['olleH', 'John', 'Noice', 'Hello', 'again', 'Hello']\n"
          ]
        }
      ]
    },
    {
      "cell_type": "markdown",
      "metadata": {
        "id": "bQRNXK18srM_"
      },
      "source": [
        "# **Dictionary**"
      ]
    },
    {
      "cell_type": "markdown",
      "metadata": {
        "id": "31Micb1EsuUX"
      },
      "source": [
        "1. Merge two dictionaries.\n",
        "\n",
        "    Dict_1: {“FirstName”:”Rahul”, “age”:9}       Dict2: {“LastName”:”Vaidya”, “class”:10}"
      ]
    },
    {
      "cell_type": "code",
      "metadata": {
        "colab": {
          "base_uri": "https://localhost:8080/"
        },
        "id": "weiETqTrBe_9",
        "outputId": "b829aeea-8b53-4dcd-99af-a9355f612812"
      },
      "source": [
        "Dict_1= {\"FirstName\": \"Rahul\", \"age\": 9}\n",
        "Dict_2= {\"LastName\": \"Vaidya\", \"class\": 10}\n",
        "Dict={**Dict_1,**Dict_2}\n",
        "# Dict_1.update(Dict_2)# another method to merge dictionaries\n",
        "print(Dict)"
      ],
      "execution_count": 49,
      "outputs": [
        {
          "output_type": "stream",
          "name": "stdout",
          "text": [
            "{'FirstName': 'Rahul', 'age': 9, 'LastName': 'Vaidya', 'class': 10}\n"
          ]
        }
      ]
    },
    {
      "cell_type": "markdown",
      "metadata": {
        "id": "hDI5ZEkQs9ne"
      },
      "source": [
        "2. Sum all the values of keys in a dictionary.\n",
        "\n",
        "    Dictionary: {1:2, 3:4, 5:6, 7:8}"
      ]
    },
    {
      "cell_type": "code",
      "metadata": {
        "colab": {
          "base_uri": "https://localhost:8080/"
        },
        "id": "XD_a_c63DwYN",
        "outputId": "00474498-d997-47a9-c2fb-277537b119ea"
      },
      "source": [
        "Dictionary={1:2, 3:4, 5:6, 7:8}\n",
        "print(sum(Dictionary.keys()))"
      ],
      "execution_count": 53,
      "outputs": [
        {
          "output_type": "stream",
          "name": "stdout",
          "text": [
            "16\n"
          ]
        }
      ]
    },
    {
      "cell_type": "markdown",
      "metadata": {
        "id": "QiDUQpYAtBaG"
      },
      "source": [
        "3. Count the values associated with each key in a dictionary. If number of values associated with any key is greater than equal to 5, remove the last element from that value.\n",
        "\n",
        "    Dictionary: {1:[1,2,3], 2:[2,3,4,5], 3:[2,3,4,5,6], 4:[1,2]}\n",
        "\n",
        "    Output: {1:[1,2,3], 2:[2,3,4,5], 3:[2,3,4,5], 4:[1,2]}"
      ]
    },
    {
      "cell_type": "code",
      "metadata": {
        "colab": {
          "base_uri": "https://localhost:8080/"
        },
        "id": "WbsjqSU9EZXf",
        "outputId": "c35d4649-39ea-4cc2-880f-78ebce1398ed"
      },
      "source": [
        "Dictionary= {1:[1,2,3], 2:[2,3,4,5], 3:[2,3,4,5,6], 4:[1,2]}\n",
        "\n",
        "for key, value in Dictionary.items():\n",
        "  if len(value)>=5:\n",
        "    value.remove(value[len(value)-1])\n",
        "print(Dictionary)"
      ],
      "execution_count": 62,
      "outputs": [
        {
          "output_type": "stream",
          "name": "stdout",
          "text": [
            "{1: [1, 2, 3], 2: [2, 3, 4, 5], 3: [2, 3, 4, 5], 4: [1, 2]}\n"
          ]
        }
      ]
    },
    {
      "cell_type": "markdown",
      "metadata": {
        "id": "aQTfCehzuC2d"
      },
      "source": [
        "4. Make a list of unique values from dictionary values.\n",
        "\n",
        "    Dictionary: {“apple”: 1, “mango”: 2, “orange”:1, “banana”:2}\n",
        "\n"
      ]
    },
    {
      "cell_type": "code",
      "metadata": {
        "colab": {
          "base_uri": "https://localhost:8080/"
        },
        "id": "6vMTZIuOGEnz",
        "outputId": "0620897d-3ccb-497c-9820-7e823015ab8d"
      },
      "source": [
        "Dictionary={\"apple\": 1, \"mango\": 2, \"orange\":1, \"banana\":2}\n",
        "Set=set(Dictionary.values())\n",
        "print(Set)"
      ],
      "execution_count": 63,
      "outputs": [
        {
          "output_type": "stream",
          "name": "stdout",
          "text": [
            "{1, 2}\n"
          ]
        }
      ]
    },
    {
      "cell_type": "markdown",
      "metadata": {
        "id": "C_-EBMmwuF0-"
      },
      "source": [
        "5. Make a dictionary. The items in the list should be keys in the dictionary and their corresponding index should be values of the keys.\n",
        "\n",
        "    [2,68,7,8,98,70]"
      ]
    },
    {
      "cell_type": "code",
      "metadata": {
        "colab": {
          "base_uri": "https://localhost:8080/"
        },
        "id": "uRkk3zthGZfD",
        "outputId": "60bb96d7-3874-417f-811e-b1225e3e83a3"
      },
      "source": [
        "List=[2,68,7,8,98,70]\n",
        "Dictionary={}\n",
        "for i in List:\n",
        "  Dictionary[i]=List.index(i)\n",
        "\n",
        "print(Dictionary)"
      ],
      "execution_count": 66,
      "outputs": [
        {
          "output_type": "stream",
          "name": "stdout",
          "text": [
            "{2: 0, 68: 1, 7: 2, 8: 3, 98: 4, 70: 5}\n"
          ]
        }
      ]
    },
    {
      "cell_type": "markdown",
      "metadata": {
        "id": "lsk9JF2BuIKI"
      },
      "source": [
        "6. Access the value of key ‘python2’:\n",
        "\n"
      ]
    },
    {
      "cell_type": "code",
      "metadata": {
        "colab": {
          "base_uri": "https://localhost:8080/"
        },
        "id": "8S6f9MNUuyuU",
        "outputId": "3bdebd1a-9c63-48fd-bbdd-ce2f338f9a03"
      },
      "source": [
        "sampleDict = { \n",
        "\n",
        "   \"sabudh\":{ \n",
        "\n",
        "      \"intern\":{ \n",
        "\n",
        "         \"name\":\"Mike\",\n",
        "\n",
        "         \"marks\":{ \n",
        "\n",
        "            \"python1\":70,\n",
        "\n",
        "            \"python2\":80\n",
        "\n",
        "         }\n",
        "\n",
        "      }\n",
        "\n",
        "   }\n",
        "\n",
        "}\n",
        "\n",
        "print(sampleDict[\"sabudh\"][\"intern\"][\"marks\"][\"python2\"])"
      ],
      "execution_count": 67,
      "outputs": [
        {
          "output_type": "stream",
          "name": "stdout",
          "text": [
            "80\n"
          ]
        }
      ]
    },
    {
      "cell_type": "markdown",
      "metadata": {
        "id": "gEJnfMjpuR7i"
      },
      "source": [
        "7.  Check if a value ‘bunny’ exists in a dictionary:\n",
        "\n",
        "sampleDict = {'a': ‘antelope’, 'b': ‘bunny’, 'c': ‘cat’}"
      ]
    },
    {
      "cell_type": "code",
      "metadata": {
        "colab": {
          "base_uri": "https://localhost:8080/"
        },
        "id": "qMU1UsXsC3PJ",
        "outputId": "3ae30049-813a-4a6a-978b-dd67152c0056"
      },
      "source": [
        "sampleDict={'a': 'antelope', 'b':'bunny', 'c':'cat'}\n",
        "if \"bunny\" in sampleDict.values():\n",
        "  print(\"bunny exists in the dictionary.\")\n",
        "else:\n",
        "  print(\"bunny does not exist in the dictionary.\")\n"
      ],
      "execution_count": 69,
      "outputs": [
        {
          "output_type": "stream",
          "name": "stdout",
          "text": [
            "bunny exists in the dictionary.\n"
          ]
        }
      ]
    }
  ]
}